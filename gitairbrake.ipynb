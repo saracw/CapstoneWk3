{
 "cells": [
  {
   "cell_type": "code",
   "execution_count": 7,
   "metadata": {},
   "outputs": [
    {
     "name": "stdout",
     "output_type": "stream",
     "text": [
      "\u001b[33mDEPRECATION: Python 2.7 will reach the end of its life on January 1st, 2020. Please upgrade your Python as Python 2.7 won't be maintained after that date. A future version of pip will drop support for Python 2.7.\u001b[0m\n",
      "Collecting airbrake\n",
      "  Downloading https://files.pythonhosted.org/packages/99/3a/4f42c0b8f57454d05f70a9c47e919ee8ea0a761176653ac5f050251e67a9/airbrake-2.1.2-py2.py3-none-any.whl\n",
      "Requirement already satisfied, skipping upgrade: requests>=2.20.0 in /anaconda2/lib/python2.7/site-packages (from airbrake) (2.21.0)\n",
      "Requirement already satisfied, skipping upgrade: urllib3<1.25,>=1.21.1 in /anaconda2/lib/python2.7/site-packages (from requests>=2.20.0->airbrake) (1.24.1)\n",
      "Requirement already satisfied, skipping upgrade: certifi>=2017.4.17 in /anaconda2/lib/python2.7/site-packages (from requests>=2.20.0->airbrake) (2019.3.9)\n",
      "Requirement already satisfied, skipping upgrade: idna<2.9,>=2.5 in /anaconda2/lib/python2.7/site-packages (from requests>=2.20.0->airbrake) (2.8)\n",
      "Requirement already satisfied, skipping upgrade: chardet<3.1.0,>=3.0.2 in /anaconda2/lib/python2.7/site-packages (from requests>=2.20.0->airbrake) (3.0.4)\n",
      "Installing collected packages: airbrake\n",
      "Successfully installed airbrake-2.1.2\n"
     ]
    }
   ],
   "source": [
    "!pip install -U airbrake"
   ]
  },
  {
   "cell_type": "code",
   "execution_count": null,
   "metadata": {},
   "outputs": [],
   "source": []
  }
 ],
 "metadata": {
  "kernelspec": {
   "display_name": "Python 3",
   "language": "python",
   "name": "python3"
  },
  "language_info": {
   "codemirror_mode": {
    "name": "ipython",
    "version": 3
   },
   "file_extension": ".py",
   "mimetype": "text/x-python",
   "name": "python",
   "nbconvert_exporter": "python",
   "pygments_lexer": "ipython3",
   "version": "3.7.1"
  }
 },
 "nbformat": 4,
 "nbformat_minor": 2
}
